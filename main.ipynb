{
 "cells": [
  {
   "cell_type": "markdown",
   "id": "4403d77d",
   "metadata": {},
   "source": [
    "# Countries, Flags and Happiness - Classifier Version\n",
    "\n",
    "Predicting whether a country's happiness is high or low based on flag features."
   ]
  },
  {
   "cell_type": "code",
   "execution_count": 1,
   "id": "e0b5bbe6",
   "metadata": {
    "execution": {
     "iopub.execute_input": "2025-05-24T15:32:42.399937Z",
     "iopub.status.busy": "2025-05-24T15:32:42.398723Z",
     "iopub.status.idle": "2025-05-24T15:32:48.644988Z",
     "shell.execute_reply": "2025-05-24T15:32:48.642663Z"
    }
   },
   "outputs": [],
   "source": [
    "import pandas as pd\n",
    "import matplotlib.pyplot as plt\n",
    "import seaborn as sns\n",
    "from sklearn.ensemble import RandomForestClassifier\n",
    "from sklearn.model_selection import train_test_split, cross_val_score\n",
    "from sklearn.metrics import accuracy_score, classification_report, confusion_matrix\n",
    "from scipy.stats import pearsonr\n",
    "import warnings\n",
    "warnings.filterwarnings('ignore', category=UserWarning)\n"
   ]
  },
  {
   "cell_type": "code",
   "execution_count": 2,
   "id": "868e6cad",
   "metadata": {
    "execution": {
     "iopub.execute_input": "2025-05-24T15:32:48.656555Z",
     "iopub.status.busy": "2025-05-24T15:32:48.655134Z",
     "iopub.status.idle": "2025-05-24T15:32:48.693605Z",
     "shell.execute_reply": "2025-05-24T15:32:48.689170Z"
    }
   },
   "outputs": [
    {
     "name": "stdout",
     "output_type": "stream",
     "text": [
      "Merged shape: (104, 43)\n"
     ]
    }
   ],
   "source": [
    "happiness_df = pd.read_csv('WorldHappiness.csv')\n",
    "flags_df = pd.read_csv('flags.csv', sep=';')\n",
    "\n",
    "happiness_df['Country'] = happiness_df['Country'].str.strip().str.lower()\n",
    "flags_df['name'] = flags_df['name'].str.strip().str.lower()\n",
    "\n",
    "merged_df = pd.merge(happiness_df, flags_df, left_on='Country', right_on='name', how='inner')\n",
    "merged_df.columns = merged_df.columns.str.strip()\n",
    "print(f\"Merged shape: {merged_df.shape}\")\n"
   ]
  },
  {
   "cell_type": "code",
   "execution_count": 3,
   "id": "7451ff43",
   "metadata": {
    "execution": {
     "iopub.execute_input": "2025-05-24T15:32:48.702583Z",
     "iopub.status.busy": "2025-05-24T15:32:48.701776Z",
     "iopub.status.idle": "2025-05-24T15:32:52.005707Z",
     "shell.execute_reply": "2025-05-24T15:32:52.002847Z"
    }
   },
   "outputs": [
    {
     "data": {
      "text/plain": [
       "<Figure size 2000x1200 with 1 Axes>"
      ]
     },
     "metadata": {},
     "output_type": "display_data"
    },
    {
     "data": {
      "text/plain": [
       "<Figure size 2000x1200 with 1 Axes>"
      ]
     },
     "metadata": {},
     "output_type": "display_data"
    },
    {
     "data": {
      "text/plain": [
       "<Figure size 2000x1200 with 1 Axes>"
      ]
     },
     "metadata": {},
     "output_type": "display_data"
    },
    {
     "data": {
      "text/plain": [
       "<Figure size 2000x1200 with 2 Axes>"
      ]
     },
     "metadata": {},
     "output_type": "display_data"
    }
   ],
   "source": [
    "sns.histplot(merged_df['Happiness Score'], bins=20, kde=True)\n",
    "plt.title('Distribution of Happiness Score')\n",
    "plt.xlabel('Happiness Score')\n",
    "plt.ylabel('Frequency')\n",
    "plt.show()\n",
    "\n",
    "top15 = merged_df.sort_values(by='Happiness Score', ascending=False).head(15)\n",
    "sns.barplot(data=top15, y='Country', x='Happiness Score')\n",
    "plt.title('Top 15 Happiest Countries')\n",
    "plt.xlabel('Happiness Score')\n",
    "plt.ylabel('Country')\n",
    "plt.show()\n",
    "\n",
    "sns.boxplot(data=merged_df, x='Region', y='Happiness Score')\n",
    "plt.xticks(rotation=90)\n",
    "plt.title('Happiness Score by Region')\n",
    "plt.tight_layout()\n",
    "plt.show()\n",
    "\n",
    "corr_matrix = merged_df.select_dtypes(include='number').corr()\n",
    "top_corr_features = corr_matrix['Happiness Score'].abs().sort_values(ascending=False).head(8).index\n",
    "filtered_corr = corr_matrix.loc[top_corr_features, top_corr_features]\n",
    "plt.figure(figsize=(10, 6))\n",
    "sns.heatmap(filtered_corr, annot=True, cmap='coolwarm', fmt='.2f')\n",
    "plt.title('Top Correlated Features with Happiness Score')\n",
    "plt.tight_layout()\n",
    "plt.show()\n"
   ]
  },
  {
   "cell_type": "code",
   "execution_count": 4,
   "id": "0f2dd148",
   "metadata": {
    "execution": {
     "iopub.execute_input": "2025-05-24T15:32:52.032513Z",
     "iopub.status.busy": "2025-05-24T15:32:52.031683Z",
     "iopub.status.idle": "2025-05-24T15:32:52.970366Z",
     "shell.execute_reply": "2025-05-24T15:32:52.967094Z"
    }
   },
   "outputs": [
    {
     "data": {
      "text/plain": [
       "<Figure size 2000x1200 with 1 Axes>"
      ]
     },
     "metadata": {},
     "output_type": "display_data"
    },
    {
     "name": "stdout",
     "output_type": "stream",
     "text": [
      "Pearson r: 0.6429\n",
      "p-value: 0.00000000\n"
     ]
    }
   ],
   "source": [
    "sns.scatterplot(data=merged_df, x='Freedom', y='Happiness Score', hue='Region')\n",
    "plt.title('Freedom vs Happiness Score')\n",
    "plt.tight_layout()\n",
    "plt.show()\n",
    "\n",
    "r_value, p_value = pearsonr(merged_df['Freedom'], merged_df['Happiness Score'])\n",
    "print(f\"Pearson r: {r_value:.4f}\")\n",
    "print(f\"p-value: {p_value:.8f}\")\n"
   ]
  },
  {
   "cell_type": "code",
   "execution_count": 5,
   "id": "2c78d58c",
   "metadata": {
    "execution": {
     "iopub.execute_input": "2025-05-24T15:32:52.980090Z",
     "iopub.status.busy": "2025-05-24T15:32:52.979329Z",
     "iopub.status.idle": "2025-05-24T15:32:52.992120Z",
     "shell.execute_reply": "2025-05-24T15:32:52.990754Z"
    }
   },
   "outputs": [],
   "source": [
    "median_happiness = merged_df['Happiness Score'].median()\n",
    "merged_df['Happiness Class'] = merged_df['Happiness Score'].apply(lambda x: 'high' if x >= median_happiness else 'low')\n",
    "\n",
    "feature_cols = ['red', 'green', 'blue', 'gold', 'white', 'black', 'orange',\n",
    "                'circles', 'crosses', 'saltires', 'quarters', 'sunstars',\n",
    "                'crescent', 'triangle', 'icon', 'animate']\n",
    "\n",
    "X = merged_df[feature_cols]\n",
    "y = merged_df['Happiness Class']\n"
   ]
  },
  {
   "cell_type": "code",
   "execution_count": 6,
   "id": "396962b1",
   "metadata": {
    "execution": {
     "iopub.execute_input": "2025-05-24T15:32:53.001138Z",
     "iopub.status.busy": "2025-05-24T15:32:53.000070Z",
     "iopub.status.idle": "2025-05-24T15:32:53.238346Z",
     "shell.execute_reply": "2025-05-24T15:32:53.236315Z"
    }
   },
   "outputs": [],
   "source": [
    "X_train, X_test, y_train, y_test = train_test_split(X, y, test_size=0.2, random_state=42)\n",
    "model = RandomForestClassifier(n_estimators=100, random_state=42)\n",
    "model.fit(X_train, y_train)\n",
    "y_pred = model.predict(X_test)\n"
   ]
  },
  {
   "cell_type": "code",
   "execution_count": 7,
   "id": "f9d35d5a",
   "metadata": {
    "execution": {
     "iopub.execute_input": "2025-05-24T15:32:53.251106Z",
     "iopub.status.busy": "2025-05-24T15:32:53.248915Z",
     "iopub.status.idle": "2025-05-24T15:32:53.266808Z",
     "shell.execute_reply": "2025-05-24T15:32:53.265791Z"
    }
   },
   "outputs": [
    {
     "name": "stdout",
     "output_type": "stream",
     "text": [
      "Accuracy: 0.5238095238095238\n",
      "\n",
      "Classification Report:\n",
      "               precision    recall  f1-score   support\n",
      "\n",
      "        high       0.55      0.55      0.55        11\n",
      "         low       0.50      0.50      0.50        10\n",
      "\n",
      "    accuracy                           0.52        21\n",
      "   macro avg       0.52      0.52      0.52        21\n",
      "weighted avg       0.52      0.52      0.52        21\n",
      "\n",
      "Confusion Matrix:\n",
      " [[6 5]\n",
      " [5 5]]\n"
     ]
    }
   ],
   "source": [
    "print(\"Accuracy:\", accuracy_score(y_test, y_pred))\n",
    "print(\"\\nClassification Report:\\n\", classification_report(y_test, y_pred))\n",
    "print(\"Confusion Matrix:\\n\", confusion_matrix(y_test, y_pred))"
   ]
  },
  {
   "cell_type": "code",
   "execution_count": 8,
   "id": "0e920182",
   "metadata": {
    "execution": {
     "iopub.execute_input": "2025-05-24T15:32:53.280563Z",
     "iopub.status.busy": "2025-05-24T15:32:53.279759Z",
     "iopub.status.idle": "2025-05-24T15:32:54.398325Z",
     "shell.execute_reply": "2025-05-24T15:32:54.395248Z"
    }
   },
   "outputs": [
    {
     "name": "stdout",
     "output_type": "stream",
     "text": [
      "Cross-Validation Accuracy Scores: [0.9047619  0.42857143 0.71428571 0.66666667 0.6       ]\n",
      "Mean Accuracy: 0.6628571428571428\n"
     ]
    }
   ],
   "source": [
    "cv_scores = cross_val_score(model, X, y, cv=5, scoring='accuracy')\n",
    "print(\"Cross-Validation Accuracy Scores:\", cv_scores)\n",
    "print(\"Mean Accuracy:\", cv_scores.mean())"
   ]
  }
 ],
 "metadata": {
  "language_info": {
   "codemirror_mode": {
    "name": "ipython",
    "version": 3
   },
   "file_extension": ".py",
   "mimetype": "text/x-python",
   "name": "python",
   "nbconvert_exporter": "python",
   "pygments_lexer": "ipython3",
   "version": "3.11.8"
  }
 },
 "nbformat": 4,
 "nbformat_minor": 5
}
