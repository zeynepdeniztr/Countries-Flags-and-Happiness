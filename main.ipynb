   {
 "cells": [
  {
   "cell_type": "markdown",
   "id": "a3cc2cf0",
   "metadata": {},
   "source": [
    "# Countries, Flags and Happiness (Classifier Version)\n",
    "\n",
    "This notebook uses classification to predict happiness category based on flag features."
   ]
  },
  {
   "cell_type": "code",
   "execution_count": null,
   "id": "20a8696b",
   "metadata": {},
   "outputs": [],
   "source": [
    "import pandas as pd\n",
    "import matplotlib.pyplot as plt\n",
    "import seaborn as sns\n",
    "from sklearn.ensemble import RandomForestClassifier\n",
    "from sklearn.model_selection import train_test_split, cross_val_score\n",
    "from sklearn.metrics import accuracy_score, classification_report, confusion_matrix\n",
    "from scipy.stats import pearsonr\n",
    "import warnings\n",
    "warnings.filterwarnings(\"ignore\", category=UserWarning)\n"
   ]
  },
  {
   "cell_type": "code",
   "execution_count": null,
   "id": "8318a925",
   "metadata": {},
   "outputs": [],
   "source": [
    "happiness_df = pd.read_csv('WorldHappiness.csv')\n",
    "flags_df = pd.read_csv('flags.csv', sep=';')\n",
    "\n",
    "happiness_df['Country'] = happiness_df['Country'].str.strip().str.lower()\n",
    "flags_df['name'] = flags_df['name'].str.strip().str.lower()\n",
    "\n",
    "merged_df = pd.merge(happiness_df, flags_df, left_on='Country', right_on='name', how='inner')\n",
    "merged_df.columns = merged_df.columns.str.strip()\n",
    "\n",
    "print(f\"Merged shape: {merged_df.shape}\")\n"
   ]
  },
  {
   "cell_type": "code",
   "execution_count": null,
   "id": "07aecd72",
   "metadata": {},
   "outputs": [],
   "source": [
    "sns.histplot(merged_df['Happiness Score'], bins=20, kde=True)\n",
    "plt.title('Distribution of Happiness Score')\n",
    "plt.xlabel('Happiness Score')\n",
    "plt.ylabel('Frequency')\n",
    "plt.show()\n"
   ]
  },
  {
   "cell_type": "code",
   "execution_count": null,
   "id": "65316d3c",
   "metadata": {},
   "outputs": [],
   "source": [
    "top15 = merged_df.sort_values(by='Happiness Score', ascending=False).head(15)\n",
    "sns.barplot(data=top15, y='Country', x='Happiness Score')\n",
    "plt.title('Top 15 Happiest Countries')\n",
    "plt.xlabel('Happiness Score')\n",
    "plt.ylabel('Country')\n",
    "plt.show()\n"
   ]
  },
  {
   "cell_type": "code",
   "execution_count": null,
   "id": "5f670204",
   "metadata": {},
   "outputs": [],
   "source": [
    "sns.boxplot(data=merged_df, x='Region', y='Happiness Score')\n",
    "plt.xticks(rotation=90)\n",
    "plt.title('Happiness Score by Region')\n",
    "plt.tight_layout()\n",
    "plt.show()\n",
    "\n",
    "corr_matrix = merged_df.select_dtypes(include='number').corr()\n",
    "top_corr_features = corr_matrix['Happiness Score'].abs().sort_values(ascending=False).head(8).index\n",
    "filtered_corr = corr_matrix.loc[top_corr_features, top_corr_features]\n",
    "plt.figure(figsize=(10, 6))\n",
    "sns.heatmap(filtered_corr, annot=True, cmap='coolwarm', fmt='.2f')\n",
    "plt.title('Top Correlated Features with Happiness Score')\n",
    "plt.tight_layout()\n",
    "plt.show()\n"
   ]
  },
  {
   "cell_type": "code",
   "execution_count": null,
   "id": "249cb32d",
   "metadata": {},
   "outputs": [],
   "source": [
    "sns.scatterplot(data=merged_df, x='Freedom', y='Happiness Score', hue='Region')\n",
    "plt.title('Freedom vs Happiness Score')\n",
    "plt.tight_layout()\n",
    "plt.show()\n",
    "\n",
    "r_value, p_value = pearsonr(merged_df['Freedom'], merged_df['Happiness Score'])\n",
    "print(f\"Pearson r: {r_value:.4f}\")\n",
    "print(f\"p-value: {p_value:.8f}\")\n"
   ]
  },
  {
   "cell_type": "code",
   "execution_count": null,
   "id": "d9b48bcb",
   "metadata": {},
   "outputs": [],
   "source": [
    "# Create classification target\n",
    "median_happiness = merged_df['Happiness Score'].median()\n",
    "merged_df['Happiness Class'] = merged_df['Happiness Score'].apply(lambda x: 'high' if x >= median_happiness else 'low')\n",
    "\n",
    "feature_cols = ['red', 'green', 'blue', 'gold', 'white', 'black', 'orange', 'circles',\n",
    "                'crosses', 'saltires', 'quarters', 'sunstars', 'crescent', 'triangle',\n",
    "                'icon', 'animate']\n",
    "\n",
    "X = merged_df[feature_cols]\n",
    "y = merged_df['Happiness Class']\n"
   ]
  },
  {
   "cell_type": "code",
   "execution_count": null,
   "id": "f3008277",
   "metadata": {},
   "outputs": [],
   "source": [
    "X_train, X_test, y_train, y_test = train_test_split(X, y, test_size=0.2, random_state=42)\n",
    "\n",
    "model = RandomForestClassifier(n_estimators=100, random_state=42)\n",
    "model.fit(X_train, y_train)\n",
    "y_pred = model.predict(X_test)\n",
    "\n",
    "print(\"Accuracy:\", accuracy_score(y_test, y_pred))\n",
    "print(\"\\nClassification Report:\\n\", classification_report(y_test, y_pred))\n",
    "print(\"Confusion Matrix:\\n\", confusion_matrix(y_test, y_pred))\n"
   ]
  },
  {
   "cell_type": "code",
   "execution_count": null,
   "id": "85bffa97",
   "metadata": {},
   "outputs": [],
   "source": [
    "cv_scores = cross_val_score(model, X, y, cv=5, scoring='accuracy')\n",
    "print(\"Cross-Validation Accuracy Scores:\", cv_scores)\n",
    "print(\"Mean Accuracy:\", cv_scores.mean())\n"
   ]
  }
 ],
 "metadata": {},
 "nbformat": 4,
 "nbformat_minor": 5
}
