{
 "cells": [
  {
   "cell_type": "markdown",
   "id": "c3dc9c74",
   "metadata": {},
   "source": [
    "# Countries, Flags and Happiness\n",
    "\n",
    "This notebook explores the relationship between countries' flag features and their happiness scores."
   ]
  },
  {
   "cell_type": "code",
   "execution_count": null,
   "id": "4f87d678",
   "metadata": {},
   "outputs": [],
   "source": [
    "import pandas as pd\n",
    "import matplotlib.pyplot as plt\n",
    "import seaborn as sns\n",
    "from sklearn.ensemble import RandomForestRegressor\n",
    "from sklearn.model_selection import train_test_split, cross_val_score\n",
    "from sklearn.metrics import mean_squared_error, r2_score\n",
    "from scipy.stats import pearsonr\n",
    "import warnings\n",
    "warnings.filterwarnings(\"ignore\", category=UserWarning)\n"
   ]
  },
  {
   "cell_type": "code",
   "execution_count": null,
   "id": "e0987eae",
   "metadata": {},
   "outputs": [],
   "source": [
    "happiness_df = pd.read_csv('WorldHappiness.csv')\n",
    "flags_df = pd.read_csv('flags.csv', sep=';')\n",
    "\n",
    "happiness_df['Country'] = happiness_df['Country'].str.strip().str.lower()\n",
    "flags_df['name'] = flags_df['name'].str.strip().str.lower()\n",
    "\n",
    "merged_df = pd.merge(happiness_df, flags_df, left_on='Country', right_on='name', how='inner')\n",
    "merged_df.columns = merged_df.columns.str.strip()\n",
    "\n",
    "print(f\"Merged shape: {merged_df.shape}\")\n"
   ]
  },
  {
   "cell_type": "code",
   "execution_count": null,
   "id": "546f3942",
   "metadata": {},
   "outputs": [],
   "source": [
    "sns.histplot(merged_df['Happiness Score'], bins=20, kde=True)\n",
    "plt.title('Distribution of Happiness Score')\n",
    "plt.xlabel('Happiness Score')\n",
    "plt.ylabel('Frequency')\n",
    "plt.show()\n"
   ]
  },
  {
   "cell_type": "code",
   "execution_count": null,
   "id": "fb52d981",
   "metadata": {},
   "outputs": [],
   "source": [
    "top15 = merged_df.sort_values(by='Happiness Score', ascending=False).head(15)\n",
    "sns.barplot(data=top15, y='Country', x='Happiness Score')\n",
    "plt.title('Top 15 Happiest Countries')\n",
    "plt.xlabel('Happiness Score')\n",
    "plt.ylabel('Country')\n",
    "plt.show()\n"
   ]
  },
  {
   "cell_type": "code",
   "execution_count": null,
   "id": "124f1db1",
   "metadata": {},
   "outputs": [],
   "source": [
    "sns.boxplot(data=merged_df, x='Region', y='Happiness Score')\n",
    "plt.xticks(rotation=90)\n",
    "plt.title('Happiness Score by Region')\n",
    "plt.xlabel('Region')\n",
    "plt.ylabel('Happiness Score')\n",
    "plt.tight_layout()\n",
    "plt.show()\n"
   ]
  },
  {
   "cell_type": "code",
   "execution_count": null,
   "id": "5ed27d0b",
   "metadata": {},
   "outputs": [],
   "source": [
    "corr_matrix = merged_df.select_dtypes(include='number').corr()\n",
    "top_corr_features = corr_matrix['Happiness Score'].abs().sort_values(ascending=False).head(8).index\n",
    "filtered_corr = corr_matrix.loc[top_corr_features, top_corr_features]\n",
    "\n",
    "plt.figure(figsize=(10, 6))\n",
    "sns.heatmap(filtered_corr, annot=True, cmap='coolwarm', fmt='.2f')\n",
    "plt.title('Top Correlated Features with Happiness Score')\n",
    "plt.tight_layout()\n",
    "plt.show()\n"
   ]
  },
  {
   "cell_type": "code",
   "execution_count": null,
   "id": "c1c44ee5",
   "metadata": {},
   "outputs": [],
   "source": [
    "sns.scatterplot(data=merged_df, x='Freedom', y='Happiness Score', hue='Region')\n",
    "plt.title('Freedom vs Happiness Score')\n",
    "plt.xlabel('Freedom')\n",
    "plt.ylabel('Happiness Score')\n",
    "plt.legend(bbox_to_anchor=(1.05, 1), loc='upper left')\n",
    "plt.tight_layout()\n",
    "plt.show()\n",
    "\n",
    "r_value, p_value = pearsonr(merged_df['Freedom'], merged_df['Happiness Score'])\n",
    "print(f'Hypothesis Testing: Freedom vs Happiness Score')\n",
    "print(f'Correlation Coefficient (r): {r_value:.4f}')\n",
    "print(f'p-value: {p_value:.4f}')\n"
   ]
  },
  {
   "cell_type": "code",
   "execution_count": null,
   "id": "41e2ffda",
   "metadata": {},
   "outputs": [],
   "source": [
    "feature_cols = ['red', 'green', 'blue', 'gold', 'white', 'black', 'orange', 'circles',\n",
    "                'crosses', 'saltires', 'quarters', 'sunstars', 'crescent', 'triangle',\n",
    "                'icon', 'animate']\n",
    "X = merged_df[feature_cols]\n",
    "y = merged_df['Happiness Score']\n"
   ]
  },
  {
   "cell_type": "code",
   "execution_count": null,
   "id": "6cfd908d",
   "metadata": {},
   "outputs": [],
   "source": [
    "X_train, X_test, y_train, y_test = train_test_split(X, y, test_size=0.2, random_state=42)"
   ]
  },
  {
   "cell_type": "code",
   "execution_count": null,
   "id": "eb7cc411",
   "metadata": {},
   "outputs": [],
   "source": [
    "model = RandomForestRegressor(n_estimators=100, random_state=42)\n",
    "model.fit(X_train, y_train)\n",
    "y_pred = model.predict(X_test)\n",
    "\n",
    "print('R² Score:', r2_score(y_test, y_pred))\n",
    "print('MSE:', mean_squared_error(y_test, y_pred))\n"
   ]
  },
  {
   "cell_type": "code",
   "execution_count": null,
   "id": "a5863a87",
   "metadata": {},
   "outputs": [],
   "source": [
    "cv_scores = cross_val_score(model, X, y, cv=5, scoring='r2')\n",
    "print('Cross-Validation R² Scores:', cv_scores)\n",
    "print('Mean R² Score:', cv_scores.mean())\n"
   ]
  },
  {
   "cell_type": "code",
   "execution_count": null,
   "id": "735195bd",
   "metadata": {},
   "outputs": [],
   "source": [
    "comparison_df = X_test.copy()\n",
    "comparison_df['Actual Happiness'] = y_test\n",
    "comparison_df['Predicted Happiness'] = y_pred\n",
    "comparison_df['Country'] = merged_df.loc[y_test.index, 'Country'].values\n",
    "comparison_df['Error'] = abs(comparison_df['Actual Happiness'] - comparison_df['Predicted Happiness'])\n",
    "sample_results = comparison_df[['Country', 'Actual Happiness', 'Predicted Happiness', 'Error']].sort_values(by='Error', ascending=False).head(3)\n",
    "sample_results\n"
   ]
  }
 ],
 "metadata": {},
 "nbformat": 4,
 "nbformat_minor": 5
}
