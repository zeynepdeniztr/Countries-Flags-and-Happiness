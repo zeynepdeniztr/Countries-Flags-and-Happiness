{
 "cells": [
  {
   "cell_type": "markdown",
   "id": "bb3294c9",
   "metadata": {},
   "source": [
    "# Countries, Flags and Happiness\n",
    "\n",
    "This notebook explores the relationship between countries' flag features and their happiness scores."
   ]
  },
  {
   "cell_type": "code",
   "execution_count": null,
   "id": "405de8e6",
   "metadata": {},
   "outputs": [],
   "source": [
    "# Libraries\n",
    "import pandas as pd\n",
    "import matplotlib.pyplot as plt\n",
    "import seaborn as sns\n",
    "from sklearn.ensemble import RandomForestRegressor\n",
    "from sklearn.model_selection import train_test_split\n",
    "from sklearn.metrics import mean_squared_error, r2_score"
   ]
  },
  {
   "cell_type": "code",
   "execution_count": null,
   "id": "258ae02b",
   "metadata": {},
   "outputs": [],
   "source": [
    "# Load datasets\n",
    "happiness_df = pd.read_csv('WorldHappiness.csv')\n",
    "flags_df = pd.read_csv('flags.csv', sep=';')"
   ]
  },
  {
   "cell_type": "code",
   "execution_count": null,
   "id": "c052360f",
   "metadata": {},
   "outputs": [],
   "source": [
    "# Standardize country names\n",
    "happiness_df['Country'] = happiness_df['Country'].str.strip().str.lower()\n",
    "flags_df['name'] = flags_df['name'].str.strip().str.lower()"
   ]
  },
  {
   "cell_type": "code",
   "execution_count": null,
   "id": "c7a6a1e3",
   "metadata": {},
   "outputs": [],
   "source": [
    "# Merge datasets\n",
    "merged_df = pd.merge(happiness_df, flags_df, left_on='Country', right_on='name', how='inner')\n",
    "merged_df.columns = merged_df.columns.str.strip()\n",
    "print(f'Merged shape: {merged_df.shape}')"
   ]
  },
  {
   "cell_type": "code",
   "execution_count": null,
   "id": "2217ca9b",
   "metadata": {},
   "outputs": [],
   "source": [
    "# Select features and target\n",
    "feature_cols = ['red', 'green', 'blue', 'gold', 'white', 'black', 'orange',\n",
    "    'circles', 'crosses', 'saltires', 'quarters', 'sunstars',\n",
    "    'crescent', 'triangle', 'icon', 'animate']\n",
    "\n",
    "X = merged_df[feature_cols]\n",
    "y = merged_df['Happiness Score']"
   ]
  },
  {
   "cell_type": "code",
   "execution_count": null,
   "id": "420cb2fa",
   "metadata": {},
   "outputs": [],
   "source": [
    "# 1. Histogram of Happiness Score\n",
    "sns.histplot(merged_df['Happiness Score'], bins=20, kde=True)\n",
    "plt.title('Distribution of Happiness Score (Cleaned)')\n",
    "plt.xlabel('Happiness Score')\n",
    "plt.ylabel('Frequency')\n",
    "plt.show()"
   ]
  },
  {
   "cell_type": "code",
   "execution_count": null,
   "id": "927ca376",
   "metadata": {},
   "outputs": [],
   "source": [
    "# 2. Top 15 Happiest Countries\n",
    "top15 = merged_df.sort_values(by='Happiness Score', ascending=False).head(15)\n",
    "sns.barplot(data=top15, y='Country', x='Happiness Score')\n",
    "plt.title('Top 15 Happiest Countries')\n",
    "plt.xlabel('Happiness Score')\n",
    "plt.ylabel('Country')\n",
    "plt.show()"
   ]
  },
  {
   "cell_type": "code",
   "execution_count": null,
   "id": "55f5bb6a",
   "metadata": {},
   "outputs": [],
   "source": [
    "# 3. Happiness Score by Region\n",
    "sns.boxplot(data=merged_df, x='Region', y='Happiness Score')\n",
    "plt.xticks(rotation=90)\n",
    "plt.title('Happiness Score by Region (Cleaned)')\n",
    "plt.xlabel('Region')\n",
    "plt.ylabel('Happiness Score')\n",
    "plt.show()"
   ]
  },
  {
   "cell_type": "code",
   "execution_count": null,
   "id": "57e9cd7b",
   "metadata": {},
   "outputs": [],
   "source": [
    "# 4. Correlation Heatmap\n",
    "plt.figure(figsize=(14, 10))\n",
    "corr = merged_df.select_dtypes(include='number').corr()\n",
    "sns.heatmap(corr, annot=True, cmap='coolwarm', fmt='.2f', annot_kws={'size': 6})\n",
    "plt.title('Correlation Heatmap (Cleaned Data)', fontsize=14)\n",
    "plt.xticks(rotation=45, ha='right', fontsize=8)\n",
    "plt.yticks(fontsize=8)\n",
    "plt.tight_layout()\n",
    "plt.show()"
   ]
  },
  {
   "cell_type": "code",
   "execution_count": null,
   "id": "f1a9cbec",
   "metadata": {},
   "outputs": [],
   "source": [
    "# 5. Freedom vs Happiness Score\n",
    "sns.scatterplot(data=merged_df, x='Freedom', y='Happiness Score', hue='Region')\n",
    "plt.title('Freedom vs Happiness Score (Cleaned Data)')\n",
    "plt.xlabel('Freedom')\n",
    "plt.ylabel('Happiness Score')\n",
    "plt.legend(bbox_to_anchor=(1.05, 1), loc='upper left')\n",
    "plt.show()\n",
    "\n",
    "from scipy.stats import pearsonr\n",
    "r_value, p_value = pearsonr(merged_df['Freedom'], merged_df['Happiness Score'])\n",
    "print(f'Hypothesis Testing: Freedom vs Happiness Score')\n",
    "print(f'Correlation Coefficient (r): {r_value:.4f}')\n",
    "print(f'p-value: {p_value:.4f}')"
   ]
  },
  {
   "cell_type": "code",
   "execution_count": null,
   "id": "2bb528e7",
   "metadata": {},
   "outputs": [],
   "source": [
    "# Train-test split\n",
    "X_train, X_test, y_train, y_test = train_test_split(X, y, test_size=0.2, random_state=42)"
   ]
  },
  {
   "cell_type": "code",
   "execution_count": null,
   "id": "073ae66c",
   "metadata": {},
   "outputs": [],
   "source": [
    "# Train Random Forest Regressor\n",
    "model = RandomForestRegressor(n_estimators=100, random_state=42)\n",
    "model.fit(X_train, y_train)\n",
    "y_pred = model.predict(X_test)\n",
    "\n",
    "print('R² Score:', r2_score(y_test, y_pred))\n",
    "print('MSE:', mean_squared_error(y_test, y_pred))"
   ]
  },
  {
   "cell_type": "code",
   "execution_count": null,
   "id": "7b9b0c33",
   "metadata": {},
   "outputs": [],
   "source": [
    "# Show sample predictions\n",
    "comparison_df = X_test.copy()\n",
    "comparison_df['Actual Happiness'] = y_test\n",
    "comparison_df['Predicted Happiness'] = y_pred\n",
    "comparison_df['Country'] = merged_df.loc[y_test.index, 'Country'].values\n",
    "comparison_df['Error'] = abs(comparison_df['Actual Happiness'] - comparison_df['Predicted Happiness'])\n",
    "\n",
    "sample_results = comparison_df[['Country', 'Actual Happiness', 'Predicted Happiness', 'Error']].sort_values(by='Error', ascending=False).head(3)\n",
    "print(sample_results)"
   ]
  },
  {
   "cell_type": "code",
   "execution_count": null,
   "id": "420cb2fa",
   "metadata": {},
   "outputs": [],
   "source": [
    "# 1. Histogram of Happiness Score\n",
    "sns.histplot(merged_df['Happiness Score'], bins=20, kde=True)\n",
    "plt.title('Distribution of Happiness Score (Cleaned)')\n",
    "plt.xlabel('Happiness Score')\n",
    "plt.ylabel('Frequency')\n",
    "plt.show()"
   ]
  },
  {
   "cell_type": "code",
   "execution_count": null,
   "id": "927ca376",
   "metadata": {},
   "outputs": [],
   "source": [
    "# 2. Top 15 Happiest Countries\n",
    "top15 = merged_df.sort_values(by='Happiness Score', ascending=False).head(15)\n",
    "sns.barplot(data=top15, y='Country', x='Happiness Score')\n",
    "plt.title('Top 15 Happiest Countries')\n",
    "plt.xlabel('Happiness Score')\n",
    "plt.ylabel('Country')\n",
    "plt.show()"
   ]
  },
  {
   "cell_type": "code",
   "execution_count": null,
   "id": "55f5bb6a",
   "metadata": {},
   "outputs": [],
   "source": [
    "# 3. Happiness Score by Region\n",
    "sns.boxplot(data=merged_df, x='Region', y='Happiness Score')\n",
    "plt.xticks(rotation=90)\n",
    "plt.title('Happiness Score by Region (Cleaned)')\n",
    "plt.xlabel('Region')\n",
    "plt.ylabel('Happiness Score')\n",
    "plt.show()"
   ]
  },
  {
   "cell_type": "code",
   "execution_count": null,
   "id": "57e9cd7b",
   "metadata": {},
   "outputs": [],
   "source": [
    "# 4. Correlation Heatmap\n",
    "plt.figure(figsize=(14, 10))\n",
    "corr = merged_df.select_dtypes(include='number').corr()\n",
    "sns.heatmap(corr, annot=True, cmap='coolwarm', fmt='.2f', annot_kws={'size': 6})\n",
    "plt.title('Correlation Heatmap (Cleaned Data)', fontsize=14)\n",
    "plt.xticks(rotation=45, ha='right', fontsize=8)\n",
    "plt.yticks(fontsize=8)\n",
    "plt.tight_layout()\n",
    "plt.show()"
   ]
  },
  {
   "cell_type": "code",
   "execution_count": null,
   "id": "f1a9cbec",
   "metadata": {},
   "outputs": [],
   "source": [
    "# 5. Freedom vs Happiness Score\n",
    "sns.scatterplot(data=merged_df, x='Freedom', y='Happiness Score', hue='Region')\n",
    "plt.title('Freedom vs Happiness Score (Cleaned Data)')\n",
    "plt.xlabel('Freedom')\n",
    "plt.ylabel('Happiness Score')\n",
    "plt.legend(bbox_to_anchor=(1.05, 1), loc='upper left')\n",
    "plt.show()\n",
    "\n",
    "from scipy.stats import pearsonr\n",
    "r_value, p_value = pearsonr(merged_df['Freedom'], merged_df['Happiness Score'])\n",
    "print(f'Hypothesis Testing: Freedom vs Happiness Score')\n",
    "print(f'Correlation Coefficient (r): {r_value:.4f}')\n",
    "print(f'p-value: {p_value:.4f}')"
   ]
  }
 ],
 "metadata": {},
 "nbformat": 4,
 "nbformat_minor": 5
}
