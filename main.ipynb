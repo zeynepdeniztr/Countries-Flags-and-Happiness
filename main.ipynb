{
 "cells": [
  {
   "cell_type": "markdown",
   "id": "fa3d9489",
   "metadata": {},
   "source": [
    "# Countries, Flags and Happiness\n",
    "\n",
    "This notebook explores the relationship between countries' flag features and their happiness scores."
   ]
  },
  {
   "cell_type": "code",
   "execution_count": null,
   "id": "3070c847",
   "metadata": {},
   "outputs": [],
   "source": [
    "import pandas as pd\n",
    "import matplotlib.pyplot as plt\n",
    "import seaborn as sns\n",
    "from sklearn.ensemble import RandomForestRegressor\n",
    "from sklearn.model_selection import train_test_split\n",
    "from sklearn.metrics import mean_squared_error, r2_score\n",
    "from scipy.stats import pearsonr"
   ]
  },
  {
   "cell_type": "code",
   "execution_count": null,
   "id": "81f21998",
   "metadata": {},
   "outputs": [],
   "source": [
    "happiness_df = pd.read_csv('WorldHappiness.csv')\n",
    "flags_df = pd.read_csv('flags.csv', sep=';')\n",
    "\n",
    "happiness_df['Country'] = happiness_df['Country'].str.strip().str.lower()\n",
    "flags_df['name'] = flags_df['name'].str.strip().str.lower()\n",
    "\n",
    "merged_df = pd.merge(happiness_df, flags_df, left_on='Country', right_on='name', how='inner')\n",
    "merged_df.columns = merged_df.columns.str.strip()\n",
    "print(f'Merged shape: {merged_df.shape}')"
   ]
  },
  {
   "cell_type": "code",
   "execution_count": null,
   "id": "0bc2aec9",
   "metadata": {},
   "outputs": [],
   "source": [
    "# Histogram of Happiness Score\n",
    "sns.histplot(merged_df['Happiness Score'], bins=20, kde=True)\n",
    "plt.title('Distribution of Happiness Score')\n",
    "plt.xlabel('Happiness Score')\n",
    "plt.ylabel('Frequency')\n",
    "plt.show()"
   ]
  },
  {
   "cell_type": "code",
   "execution_count": null,
   "id": "ad0bd507",
   "metadata": {},
   "outputs": [],
   "source": [
    "# Top 15 Happiest Countries\n",
    "top15 = merged_df.sort_values(by='Happiness Score', ascending=False).head(15)\n",
    "sns.barplot(data=top15, y='Country', x='Happiness Score')\n",
    "plt.title('Top 15 Happiest Countries')\n",
    "plt.xlabel('Happiness Score')\n",
    "plt.ylabel('Country')\n",
    "plt.show()"
   ]
  },
  {
   "cell_type": "code",
   "execution_count": null,
   "id": "84feda9b",
   "metadata": {},
   "outputs": [],
   "source": [
    "# Boxplot by Region\n",
    "sns.boxplot(data=merged_df, x='Region', y='Happiness Score')\n",
    "plt.xticks(rotation=90)\n",
    "plt.title('Happiness Score by Region')\n",
    "plt.xlabel('Region')\n",
    "plt.ylabel('Happiness Score')\n",
    "plt.show()"
   ]
  },
  {
   "cell_type": "code",
   "execution_count": null,
   "id": "144de34e",
   "metadata": {},
   "outputs": [],
   "source": [
    "# Simplified Correlation Heatmap\n",
    "corr_matrix = merged_df.select_dtypes(include='number').corr()\n",
    "top_corr_features = corr_matrix['Happiness Score'].abs().sort_values(ascending=False).head(8).index\n",
    "filtered_corr = corr_matrix.loc[top_corr_features, top_corr_features]\n",
    "\n",
    "plt.figure(figsize=(10, 6))\n",
    "sns.heatmap(filtered_corr, annot=True, cmap='coolwarm', fmt='.2f')\n",
    "plt.title('Top Correlated Features with Happiness Score')\n",
    "plt.tight_layout()\n",
    "plt.show()"
   ]
  },
  {
   "cell_type": "code",
   "execution_count": null,
   "id": "c560cd0d",
   "metadata": {},
   "outputs": [],
   "source": [
    "# Freedom vs Happiness Score\n",
    "sns.scatterplot(data=merged_df, x='Freedom', y='Happiness Score', hue='Region')\n",
    "plt.title('Freedom vs Happiness Score')\n",
    "plt.xlabel('Freedom')\n",
    "plt.ylabel('Happiness Score')\n",
    "plt.legend(bbox_to_anchor=(1.05, 1), loc='upper left')\n",
    "plt.show()\n",
    "\n",
    "r_value, p_value = pearsonr(merged_df['Freedom'], merged_df['Happiness Score'])\n",
    "print(f'Hypothesis Testing: Freedom vs Happiness Score')\n",
    "print(f'Correlation Coefficient (r): {r_value:.4f}')\n",
    "print(f'p-value: {p_value:.4f}')"
   ]
  },
  {
   "cell_type": "code",
   "execution_count": null,
   "id": "4b55a6a2",
   "metadata": {},
   "outputs": [],
   "source": [
    "# ML Preparation\n",
    "feature_cols = ['red', 'green', 'blue', 'gold', 'white', 'black', 'orange', 'circles', 'crosses', 'saltires', 'quarters', 'sunstars', 'crescent', 'triangle', 'icon', 'animate']\n",
    "X = merged_df[feature_cols]\n",
    "y = merged_df['Happiness Score']"
   ]
  },
  {
   "cell_type": "code",
   "execution_count": null,
   "id": "256cf984",
   "metadata": {},
   "outputs": [],
   "source": [
    "# Train-test Split\n",
    "X_train, X_test, y_train, y_test = train_test_split(X, y, test_size=0.2, random_state=42)"
   ]
  },
  {
   "cell_type": "code",
   "execution_count": null,
   "id": "54b0df6c",
   "metadata": {},
   "outputs": [],
   "source": [
    "# Train Model\n",
    "model = RandomForestRegressor(n_estimators=100, random_state=42)\n",
    "model.fit(X_train, y_train)\n",
    "y_pred = model.predict(X_test)\n",
    "\n",
    "print('R² Score:', r2_score(y_test, y_pred))\n",
    "print('MSE:', mean_squared_error(y_test, y_pred))"
   ]
  },
  {
   "cell_type": "code",
   "execution_count": null,
   "id": "f1cde27e",
   "metadata": {},
   "outputs": [],
   "source": [
    "# Show Predictions\n",
    "comparison_df = X_test.copy()\n",
    "comparison_df['Actual Happiness'] = y_test\n",
    "comparison_df['Predicted Happiness'] = y_pred\n",
    "comparison_df['Country'] = merged_df.loc[y_test.index, 'Country'].values\n",
    "comparison_df['Error'] = abs(comparison_df['Actual Happiness'] - comparison_df['Predicted Happiness'])\n",
    "sample_results = comparison_df[['Country', 'Actual Happiness', 'Predicted Happiness', 'Error']].sort_values(by='Error', ascending=False).head(3)\n",
    "print(sample_results)"
   ]
  }
 ],
 "metadata": {},
 "nbformat": 4,
 "nbformat_minor": 5
}
